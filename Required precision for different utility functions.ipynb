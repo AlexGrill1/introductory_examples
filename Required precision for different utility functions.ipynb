{
 "cells": [
  {
   "cell_type": "code",
   "execution_count": 2,
   "metadata": {},
   "outputs": [],
   "source": [
    "# Library\n",
    "import math"
   ]
  },
  {
   "cell_type": "markdown",
   "metadata": {},
   "source": [
    "Check if $\\pi = 0.7$ is the optimal solution for discrete action-choices for the example 3.2 in R. Korn, Optimal Portfolios (p. 41 ff.)"
   ]
  },
  {
   "cell_type": "code",
   "execution_count": 2,
   "metadata": {},
   "outputs": [],
   "source": [
    "# See p. 43\n",
    "def f(x):\n",
    "    return(4/9 * math.sqrt(x+1) + 5/9 * math.sqrt(1 - x/2))"
   ]
  },
  {
   "cell_type": "code",
   "execution_count": 3,
   "metadata": {},
   "outputs": [],
   "source": [
    "actions = [0, 0.1, 0.2, 0.3, 0.4, 0.5, 0.6, 0.7, 0.8, 0.9, 1]"
   ]
  },
  {
   "cell_type": "code",
   "execution_count": 5,
   "metadata": {},
   "outputs": [
    {
     "name": "stdout",
     "output_type": "stream",
     "text": [
      "(0, 1.0)\n",
      "(0.1, 1.0076258405650098)\n",
      "(0.2, 1.0139107722548775)\n",
      "(0.3, 1.018941547671444)\n",
      "(0.4, 1.022777753497697)\n",
      "(0.5, 1.0254562782765053)\n",
      "(0.6, 1.0269938209933094)\n",
      "(0.7, 1.0273878664790437)\n",
      "(0.8, 1.0266162769118792)\n",
      "(0.9, 1.0246354160426578)\n",
      "(1, 1.021376461713902)\n"
     ]
    }
   ],
   "source": [
    "for x in actions:\n",
    "    print((x, f(x)))"
   ]
  },
  {
   "cell_type": "markdown",
   "metadata": {},
   "source": [
    "**Calculation of the true Action-Value function for all states (t=1, $\\cdot$) for a two-step binomial tree with the parameters chosen as in example 3.2 in R. Korn, Optimal Portfolios (p. 42 ff.) for different utility functions**\n",
    "\n",
    "Let the parameters of the binomial tree be specified as\n",
    "\n",
    "$T=2$  \n",
    "$p_u = \\frac{4}{9}, p_d = \\frac{5}{9}$  \n",
    "$r_u = 1, r_d = -\\frac{1}{2}, r_f = 0$  \n",
    "$\\mathcal{A} = [ 0, 0.1, \\dots, 1]$."
   ]
  },
  {
   "cell_type": "markdown",
   "metadata": {},
   "source": [
    "**Power utility (square root utility)**\n",
    "\n",
    "$U(V_T) = \\frac{V_T^{\\gamma}}{\\gamma}$ for $\\gamma \\in (0,1)$\n",
    "\n",
    "Choose $\\gamma = \\frac{1}{2}$:\n",
    "\n",
    "For $s=(t=1, V_t=100)$ the optimal Q-value function $Q^*(s, \\cdot)$ is given by\n",
    "\n",
    "$$\n",
    "\\begin{align*}\n",
    "  &\\mathbb{E}\\left[ U(V_T) | s, a \\right] \\text{ for all } a \\in \\mathcal{A} \\\\\n",
    "= &p_u \\left[ U\\left( V_t a (1+r_u) + V_t (1-a)r_f \\right) \\right] + p_d \\left[ U\\left( V_t a (1+r_d) + V_t (1-a)r_f \\right) \\right] \\\\\n",
    "= & p_u \\left[ 2 \\sqrt{\\left( V_t a (1+r_u) + V_t (1-a)r_f \\right)} \\right] + p_d \\left[ 2 \\sqrt{\\left( V_t a (1+r_d) + V_t (1-a)r_f \\right)} \\right]\n",
    "\\end{align*}\n",
    "$$\n"
   ]
  },
  {
   "cell_type": "code",
   "execution_count": 16,
   "metadata": {},
   "outputs": [
    {
     "name": "stdout",
     "output_type": "stream",
     "text": [
      "(0, 20.0)\n",
      "(0.1, 20.152516811300195)\n",
      "(0.2, 20.27821544509755)\n",
      "(0.3, 20.378830953428878)\n",
      "(0.4, 20.455555069953938)\n",
      "(0.5, 20.509125565530113)\n",
      "(0.6, 20.53987641986619)\n",
      "(0.7, 20.547757329580875)\n",
      "(0.8, 20.532325538237583)\n",
      "(0.9, 20.492708320853154)\n",
      "(1, 20.42752923427804)\n"
     ]
    }
   ],
   "source": [
    "def true_avf_sqrt(Vt, a, p_u, p_d, r_u, r_d, r_f):\n",
    "    return(p_u * 2 * math.sqrt(Vt*a*(1+r_u) + (1-a)*Vt) + p_d * 2* math.sqrt(Vt*a*(1+r_d) + (1-a)*Vt))\n",
    "\n",
    "for a in actions:\n",
    "    print((a, true_avf_sqrt(100, a, 4/9, 5/9, 1, -0.5, 0)))"
   ]
  },
  {
   "cell_type": "markdown",
   "metadata": {},
   "source": [
    "Hence, a precision up to the $\\epsilon \\leq 10^{-2}$ is required in order to be able to choose the right action.\n",
    "\n",
    "For this particular state $s=(t=1, V_t=100)$ we can estimate the number of updates needed to achieve above precision with probability ($1-\\delta$) by Lemma 3.3."
   ]
  },
  {
   "cell_type": "code",
   "execution_count": 14,
   "metadata": {},
   "outputs": [],
   "source": [
    "def num_updates_sqrt(Vt, a, p_u, p_d, r_u, r_d, r_f, delta, eps):\n",
    "    return ((2*math.sqrt(Vt*a*(1+r_u) + (1-a)*Vt) - 2*math.sqrt(Vt*a*(1+r_d) + (1-a)*Vt))**2 * p_u * p_d)/(delta * (eps **2))"
   ]
  },
  {
   "cell_type": "code",
   "execution_count": 17,
   "metadata": {},
   "outputs": [
    {
     "name": "stdout",
     "output_type": "stream",
     "text": [
      "(0, 0.0)\n",
      "(0.1, 1085465673.8593066)\n",
      "(0.2, 4254623391.080938)\n",
      "(0.3, 9406497943.138006)\n",
      "(0.4, 16473866893.496794)\n",
      "(0.5, 25418203741.305153)\n",
      "(0.6, 36226953313.24989)\n",
      "(0.7, 48912670782.6442)\n",
      "(0.8, 63513882650.340195)\n",
      "(0.9, 80097811352.87164)\n",
      "(1, 98765432098.76544)\n"
     ]
    }
   ],
   "source": [
    "for a in actions:\n",
    "    print((a, num_updates_sqrt(100, a, 4/9, 5/9, 1, -0.5, 0, 0.05, 0.0001)))"
   ]
  },
  {
   "cell_type": "markdown",
   "metadata": {},
   "source": [
    "We need to update the state action pair (s=(1, 100), a=0.7) approx. $4.9$m times in order to achieve the needed precision with a probability of 95%."
   ]
  },
  {
   "cell_type": "markdown",
   "metadata": {},
   "source": [
    "**Log utility**\n",
    "\n",
    "$U(V_T) = log(V_T)$"
   ]
  },
  {
   "cell_type": "code",
   "execution_count": 10,
   "metadata": {},
   "outputs": [
    {
     "name": "stdout",
     "output_type": "stream",
     "text": [
      "(0, 4.605170185988092)\n",
      "(0.1, 4.619033991241375)\n",
      "(0.2, 4.627668369197723)\n",
      "(0.3, 4.63148823158599)\n",
      "(0.4, 4.630744762645181)\n",
      "(0.5, 4.625553527118508)\n",
      "(0.6, 4.6159079412424555)\n",
      "(0.7, 4.60168112196436)\n",
      "(0.8, 4.582616690519038)\n",
      "(0.9, 4.558306912756033)\n",
      "(1, 4.528153832592542)\n"
     ]
    }
   ],
   "source": [
    "def true_avf_log(Vt, a, p_u, p_d, r_u, r_d, r_f):\n",
    "    return(p_u * math.log(Vt*a*(1+r_u) + (1-a)*Vt) + p_d * math.log(Vt*a*(1+r_d) + (1-a)*Vt))\n",
    "\n",
    "for a in actions:\n",
    "    print((a, true_avf_log(100, a, 4/9, 5/9, 1, -0.5, 0)))"
   ]
  },
  {
   "cell_type": "markdown",
   "metadata": {},
   "source": [
    "Hence, in order to be able to distinguish action $a=0.3$ and $a=0.4$ we need a precision of $\\epsilon <= 10^{-3}$"
   ]
  },
  {
   "cell_type": "code",
   "execution_count": 22,
   "metadata": {},
   "outputs": [],
   "source": [
    "def num_updates_log(Vt, a, p_u, p_d, r_u, r_d, r_f, delta, eps):\n",
    "    return ((math.log(Vt*a*(1+r_u) + (1-a)*Vt) - math.log(Vt*a*(1+r_d) + (1-a)*Vt))**2 * p_u * p_d)/(delta * (eps **2))"
   ]
  },
  {
   "cell_type": "code",
   "execution_count": 23,
   "metadata": {},
   "outputs": [
    {
     "name": "stdout",
     "output_type": "stream",
     "text": [
      "(0, 0.0)\n",
      "(0.1, 106136.19084013824)\n",
      "(0.2, 408696.1719019835)\n",
      "(0.3, 891485.079082101)\n",
      "(0.4, 1546517.6795386863)\n",
      "(0.5, 2372607.476139267)\n",
      "(0.6, 3374802.2882089214)\n",
      "(0.7, 4564500.90039318)\n",
      "(0.8, 5960241.781790532)\n",
      "(0.9, 7589301.210530215)\n",
      "(1, 9490429.90455706)\n"
     ]
    }
   ],
   "source": [
    "for a in actions:\n",
    "    print((a, num_updates_log(100, a, 4/9, 5/9, 1, -0.5, 0, 0.05, 0.001)))"
   ]
  },
  {
   "cell_type": "markdown",
   "metadata": {},
   "source": [
    "We need to update the state action pair (s=(1, 100), a=0.3) approx. $1.5$m times in order to achieve the needed precision with a probability of 95%."
   ]
  },
  {
   "cell_type": "code",
   "execution_count": null,
   "metadata": {},
   "outputs": [],
   "source": []
  }
 ],
 "metadata": {
  "kernelspec": {
   "display_name": "Python 3",
   "language": "python",
   "name": "python3"
  },
  "language_info": {
   "codemirror_mode": {
    "name": "ipython",
    "version": 3
   },
   "file_extension": ".py",
   "mimetype": "text/x-python",
   "name": "python",
   "nbconvert_exporter": "python",
   "pygments_lexer": "ipython3",
   "version": "3.8.8"
  }
 },
 "nbformat": 4,
 "nbformat_minor": 4
}
